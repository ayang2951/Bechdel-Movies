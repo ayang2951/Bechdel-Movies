{
 "cells": [
  {
   "cell_type": "code",
   "execution_count": 4,
   "id": "f267adc2-52b9-49dc-a8eb-e6987b9bad45",
   "metadata": {},
   "outputs": [],
   "source": [
    "import pandas as pd\n",
    "import json\n",
    "\n",
    "with open('getAllMovies.json') as file:\n",
    "    data = (file.read())\n",
    "\n",
    "data = json.loads(data)"
   ]
  },
  {
   "cell_type": "code",
   "execution_count": 13,
   "id": "507a7059-943c-487a-86e4-e2f7cf990de4",
   "metadata": {},
   "outputs": [],
   "source": [
    "table = []\n",
    "\n",
    "for row in data:\n",
    "    table.append([row['year'], row['rating'], row['title'], row['imdbid']])"
   ]
  },
  {
   "cell_type": "code",
   "execution_count": 16,
   "id": "eb5d99fa-6bcf-4189-81f6-02d1aff84503",
   "metadata": {},
   "outputs": [],
   "source": [
    "data = pd.DataFrame(table)\n",
    "\n",
    "data"
   ]
  },
  {
   "cell_type": "code",
   "execution_count": 18,
   "id": "97fe80ee-3ffa-4bcd-84fe-512f7fc60ff8",
   "metadata": {},
   "outputs": [],
   "source": [
    "data.to_csv('moviedata.csv')"
   ]
  }
 ],
 "metadata": {
  "kernelspec": {
   "display_name": "Python 3",
   "language": "python",
   "name": "python3"
  },
  "language_info": {
   "codemirror_mode": {
    "name": "ipython",
    "version": 3
   },
   "file_extension": ".py",
   "mimetype": "text/x-python",
   "name": "python",
   "nbconvert_exporter": "python",
   "pygments_lexer": "ipython3",
   "version": "3.8.8"
  }
 },
 "nbformat": 4,
 "nbformat_minor": 5
}
