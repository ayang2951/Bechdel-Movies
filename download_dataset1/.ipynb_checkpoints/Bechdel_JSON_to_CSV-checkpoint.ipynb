{
 "cells": [
  {
   "cell_type": "code",
   "execution_count": 16,
   "id": "f267adc2-52b9-49dc-a8eb-e6987b9bad45",
   "metadata": {},
   "outputs": [],
   "source": [
    "import pandas as pd\n",
    "import json\n",
    "\n",
    "with open('getAllMovies.json') as file:\n",
    "    data = (file.read())\n",
    "\n",
    "data = json.loads(data)"
   ]
  },
  {
   "cell_type": "code",
   "execution_count": 17,
   "id": "507a7059-943c-487a-86e4-e2f7cf990de4",
   "metadata": {},
   "outputs": [],
   "source": [
    "table = []\n",
    "\n",
    "for row in data:\n",
    "    table.append([row['year'], row['rating'], row['title'], row['imdbid']])"
   ]
  },
  {
   "cell_type": "code",
   "execution_count": 18,
   "id": "eb5d99fa-6bcf-4189-81f6-02d1aff84503",
   "metadata": {},
   "outputs": [],
   "source": [
    "data = pd.DataFrame(table, columns = ['year', 'rating', 'title', 'imdb_id'])\n",
    "\n",
    "data[\"imdb_id\"] = data[\"imdb_id\"].apply(lambda x : \"tt\" + str(x))"
   ]
  },
  {
   "cell_type": "code",
   "execution_count": 19,
   "id": "616be250-a94f-48cf-8bf9-75e91340c473",
   "metadata": {},
   "outputs": [
    {
     "data": {
      "text/html": [
       "<div>\n",
       "<style scoped>\n",
       "    .dataframe tbody tr th:only-of-type {\n",
       "        vertical-align: middle;\n",
       "    }\n",
       "\n",
       "    .dataframe tbody tr th {\n",
       "        vertical-align: top;\n",
       "    }\n",
       "\n",
       "    .dataframe thead th {\n",
       "        text-align: right;\n",
       "    }\n",
       "</style>\n",
       "<table border=\"1\" class=\"dataframe\">\n",
       "  <thead>\n",
       "    <tr style=\"text-align: right;\">\n",
       "      <th></th>\n",
       "      <th>year</th>\n",
       "      <th>rating</th>\n",
       "      <th>title</th>\n",
       "      <th>imdb_id</th>\n",
       "    </tr>\n",
       "  </thead>\n",
       "  <tbody>\n",
       "    <tr>\n",
       "      <th>0</th>\n",
       "      <td>1874</td>\n",
       "      <td>0</td>\n",
       "      <td>Passage de Venus</td>\n",
       "      <td>tt3155794</td>\n",
       "    </tr>\n",
       "    <tr>\n",
       "      <th>1</th>\n",
       "      <td>1877</td>\n",
       "      <td>0</td>\n",
       "      <td>La Rosace Magique</td>\n",
       "      <td>tt14495706</td>\n",
       "    </tr>\n",
       "    <tr>\n",
       "      <th>2</th>\n",
       "      <td>1878</td>\n",
       "      <td>0</td>\n",
       "      <td>Sallie Gardner at a Gallop</td>\n",
       "      <td>tt2221420</td>\n",
       "    </tr>\n",
       "    <tr>\n",
       "      <th>3</th>\n",
       "      <td>1878</td>\n",
       "      <td>0</td>\n",
       "      <td>Le singe musicien</td>\n",
       "      <td>tt12592084</td>\n",
       "    </tr>\n",
       "    <tr>\n",
       "      <th>4</th>\n",
       "      <td>1881</td>\n",
       "      <td>0</td>\n",
       "      <td>Athlete Swinging a Pick</td>\n",
       "      <td>tt7816420</td>\n",
       "    </tr>\n",
       "    <tr>\n",
       "      <th>...</th>\n",
       "      <td>...</td>\n",
       "      <td>...</td>\n",
       "      <td>...</td>\n",
       "      <td>...</td>\n",
       "    </tr>\n",
       "    <tr>\n",
       "      <th>10131</th>\n",
       "      <td>2023</td>\n",
       "      <td>3</td>\n",
       "      <td>Winnie-the-Pooh: Blood and Honey</td>\n",
       "      <td>tt19623240</td>\n",
       "    </tr>\n",
       "    <tr>\n",
       "      <th>10132</th>\n",
       "      <td>2023</td>\n",
       "      <td>3</td>\n",
       "      <td>Haunted Mansion</td>\n",
       "      <td>tt1695843</td>\n",
       "    </tr>\n",
       "    <tr>\n",
       "      <th>10133</th>\n",
       "      <td>2023</td>\n",
       "      <td>3</td>\n",
       "      <td>Portable Door, The</td>\n",
       "      <td>tt11820950</td>\n",
       "    </tr>\n",
       "    <tr>\n",
       "      <th>10134</th>\n",
       "      <td>2023</td>\n",
       "      <td>3</td>\n",
       "      <td>Anatomie d&amp;#39;une chute</td>\n",
       "      <td>tt17009710</td>\n",
       "    </tr>\n",
       "    <tr>\n",
       "      <th>10135</th>\n",
       "      <td>2023</td>\n",
       "      <td>3</td>\n",
       "      <td>Slotherhouse</td>\n",
       "      <td>tt15422224</td>\n",
       "    </tr>\n",
       "  </tbody>\n",
       "</table>\n",
       "<p>10136 rows × 4 columns</p>\n",
       "</div>"
      ],
      "text/plain": [
       "       year  rating                             title     imdb_id\n",
       "0      1874       0                  Passage de Venus   tt3155794\n",
       "1      1877       0                 La Rosace Magique  tt14495706\n",
       "2      1878       0        Sallie Gardner at a Gallop   tt2221420\n",
       "3      1878       0                 Le singe musicien  tt12592084\n",
       "4      1881       0           Athlete Swinging a Pick   tt7816420\n",
       "...     ...     ...                               ...         ...\n",
       "10131  2023       3  Winnie-the-Pooh: Blood and Honey  tt19623240\n",
       "10132  2023       3                   Haunted Mansion   tt1695843\n",
       "10133  2023       3                Portable Door, The  tt11820950\n",
       "10134  2023       3          Anatomie d&#39;une chute  tt17009710\n",
       "10135  2023       3                      Slotherhouse  tt15422224\n",
       "\n",
       "[10136 rows x 4 columns]"
      ]
     },
     "execution_count": 19,
     "metadata": {},
     "output_type": "execute_result"
    }
   ],
   "source": [
    "data"
   ]
  },
  {
   "cell_type": "code",
   "execution_count": 20,
   "id": "97fe80ee-3ffa-4bcd-84fe-512f7fc60ff8",
   "metadata": {},
   "outputs": [],
   "source": [
    "data.to_csv('moviedata.csv', index = False)"
   ]
  }
 ],
 "metadata": {
  "kernelspec": {
   "display_name": "Python 3",
   "language": "python",
   "name": "python3"
  },
  "language_info": {
   "codemirror_mode": {
    "name": "ipython",
    "version": 3
   },
   "file_extension": ".py",
   "mimetype": "text/x-python",
   "name": "python",
   "nbconvert_exporter": "python",
   "pygments_lexer": "ipython3",
   "version": "3.8.8"
  }
 },
 "nbformat": 4,
 "nbformat_minor": 5
}
